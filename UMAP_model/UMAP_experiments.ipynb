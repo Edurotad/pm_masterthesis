{
 "cells": [
  {
   "cell_type": "code",
   "execution_count": 1,
   "metadata": {},
   "outputs": [],
   "source": [
    "import numpy as np \n",
    "import pandas as pd\n",
    "from sklearn.model_selection import train_test_split\n",
    "from sklearn import preprocessing\n",
    "import matplotlib.pyplot as plt\n",
    "import seaborn as sns\n",
    "%matplotlib inline\n",
    "import plotly.express as px\n",
    "from sklearn import metrics\n",
    "import math\n",
    "import umap\n",
    "\n",
    "from UMAP_function import UMAP_model\n",
    "\n",
    "sns.set(style='white', context='notebook', rc={'figure.figsize':(14,10)})\n"
   ]
  },
  {
   "cell_type": "code",
   "execution_count": 2,
   "metadata": {},
   "outputs": [],
   "source": []
  },
  {
   "cell_type": "code",
   "execution_count": 2,
   "metadata": {},
   "outputs": [],
   "source": [
    "train2 = pd.read_csv(\"C:/Users/eduardo.tadeo/Documents/Master Thesis/CMAPSSData/train_FD002.txt\", delimiter = ' ')\n",
    "test2  = pd.read_csv(\"C:/Users/eduardo.tadeo/Documents/Master Thesis/CMAPSSData/test_FD002.txt\", delimiter = ' ')\n",
    "\n",
    "RUL_test = pd.read_csv(\"C:/Users/eduardo.tadeo/Documents/Master Thesis/CMAPSSData/RUL_FD002.txt\")\n",
    "\n",
    "for i in range(train2['Unit'].max()):\n",
    "\n",
    "    train_Unit = train2[train2['Unit']==(i+1)]\n",
    "\n",
    "    UL = train_Unit['Cycle'].max() # UsefulLife\n",
    "\n",
    "    train2.loc[train2['Unit']==i+1, 'UL'] = UL\n",
    "    train2.loc[train2['Unit']==i+1, 'RUL'] = UL - train2.loc[train2['Unit']==i+1, 'Cycle'] \n",
    "    train2.loc[train2['Unit']==i+1, 'RUL_index'] = train2.loc[train2['Unit']==i+1, 'RUL'] / train2.loc[train2['Unit']==i+1, 'UL']\n",
    "\n",
    "train_vector = train2.iloc[:,2:-7]\n",
    "test_vector = test2.iloc[:,2:-4]\n",
    "\n",
    "test_lastcycle = np.zeros((test2['Unit'].max(), len(test_vector.columns)))\n",
    "\n",
    "for i in range(test2['Unit'].max()):\n",
    "\n",
    "    test_unit = test2[test2['Unit'] == i+1]\n",
    "   # print(test_unit)\n",
    "\n",
    "    last = test_unit[test_unit['Cycle'] == test_unit['Cycle'].max()]\n",
    "    test_lastcycle[i,:] = last.iloc[:,2:-4].to_numpy()\n",
    "\n",
    "test_lastcycle = pd.DataFrame(test_lastcycle, columns = test_vector.columns)"
   ]
  },
  {
   "cell_type": "code",
   "execution_count": 3,
   "metadata": {},
   "outputs": [],
   "source": [
    "train_v = (train_vector.to_numpy())\n",
    "test_v = (test_lastcycle.to_numpy())\n",
    "RUL_train = train2['RUL'].to_numpy()"
   ]
  },
  {
   "cell_type": "code",
   "execution_count": 9,
   "metadata": {},
   "outputs": [],
   "source": [
    "UMAP_NN_v = np.array((20,50,75,5,10,100,200))\n",
    "UMAP_min_dist_v = np.array((0.15,0.0,0.1,0.25,0.5,0.8,0.99))\n",
    "UMAP_n_components_v = np.array((2,3,4,5))\n",
    "UMAP_metric_v = ['euclidean', 'minkowski', 'manhattan', 'correlation', 'chebyshev']"
   ]
  },
  {
   "cell_type": "code",
   "execution_count": 8,
   "metadata": {
    "tags": []
   },
   "outputs": [
    {
     "output_type": "stream",
     "name": "stdout",
     "text": "UMAP Parameters tuning: \nUMAP near neighbours =  5 , UMAP minimum distance =  0.15\nUMAP components =  2 , UMAP metric =  euclidean\nI am done\nRUL prediction done\nThe Mean Absolute Error is  28.62934362934363\nThe challenge score is 131109.5628120362\nUMAP Parameters tuning: \nUMAP near neighbours =  5 , UMAP minimum distance =  0.15\nUMAP components =  2 , UMAP metric =  minkowski\nI am done\nRUL prediction done\nThe Mean Absolute Error is  30.320463320463322\nThe challenge score is 1324939.2531839835\nUMAP Parameters tuning: \nUMAP near neighbours =  5 , UMAP minimum distance =  0.15\nUMAP components =  2 , UMAP metric =  manhattan\nI am done\nRUL prediction done\nThe Mean Absolute Error is  29.030888030888033\nThe challenge score is 138224.27209270466\nUMAP Parameters tuning: \nUMAP near neighbours =  5 , UMAP minimum distance =  0.15\nUMAP components =  2 , UMAP metric =  correlation\nI am done\nRUL prediction done\nThe Mean Absolute Error is  33.285714285714285\nThe challenge score is 155295.0241187313\nUMAP Parameters tuning: \nUMAP near neighbours =  5 , UMAP minimum distance =  0.15\nUMAP components =  2 , UMAP metric =  chebyshev\nI am done\nRUL prediction done\nThe Mean Absolute Error is  29.37065637065637\nThe challenge score is 259160.2448574471\nUMAP Parameters tuning: \nUMAP near neighbours =  5 , UMAP minimum distance =  0.15\nUMAP components =  3 , UMAP metric =  euclidean\nI am done\nRUL prediction done\nThe Mean Absolute Error is  29.845559845559844\nThe challenge score is 152277.4140611976\nUMAP Parameters tuning: \nUMAP near neighbours =  5 , UMAP minimum distance =  0.15\nUMAP components =  3 , UMAP metric =  minkowski\nI am done\nRUL prediction done\nThe Mean Absolute Error is  30.33976833976834\nThe challenge score is 320910.2928499274\nUMAP Parameters tuning: \nUMAP near neighbours =  5 , UMAP minimum distance =  0.15\nUMAP components =  3 , UMAP metric =  manhattan\nI am done\nRUL prediction done\nThe Mean Absolute Error is  28.806949806949806\nThe challenge score is 179642.44801581523\nUMAP Parameters tuning: \nUMAP near neighbours =  5 , UMAP minimum distance =  0.15\nUMAP components =  3 , UMAP metric =  correlation\n"
    },
    {
     "output_type": "error",
     "ename": "KeyboardInterrupt",
     "evalue": "",
     "traceback": [
      "\u001b[1;31m---------------------------------------------------------------------------\u001b[0m",
      "\u001b[1;31mKeyboardInterrupt\u001b[0m                         Traceback (most recent call last)",
      "\u001b[1;32m<ipython-input-8-bf426418ac85>\u001b[0m in \u001b[0;36m<module>\u001b[1;34m\u001b[0m\n\u001b[0;32m     15\u001b[0m                     \u001b[0mUMAP_NN\u001b[0m \u001b[1;33m=\u001b[0m \u001b[0mi\u001b[0m\u001b[1;33m,\u001b[0m \u001b[0mUMAP_dist\u001b[0m \u001b[1;33m=\u001b[0m \u001b[0mj\u001b[0m\u001b[1;33m,\u001b[0m\u001b[1;33m\u001b[0m\u001b[1;33m\u001b[0m\u001b[0m\n\u001b[0;32m     16\u001b[0m                     \u001b[0mn_components\u001b[0m \u001b[1;33m=\u001b[0m \u001b[0mk\u001b[0m\u001b[1;33m,\u001b[0m \u001b[0mmetric\u001b[0m \u001b[1;33m=\u001b[0m \u001b[0mz\u001b[0m\u001b[1;33m,\u001b[0m\u001b[1;33m\u001b[0m\u001b[1;33m\u001b[0m\u001b[0m\n\u001b[1;32m---> 17\u001b[1;33m                     images = False)\n\u001b[0m\u001b[0;32m     18\u001b[0m                 \u001b[1;32mif\u001b[0m \u001b[0mmean\u001b[0m \u001b[1;33m<\u001b[0m \u001b[0mminvalue\u001b[0m\u001b[1;33m:\u001b[0m\u001b[1;33m\u001b[0m\u001b[1;33m\u001b[0m\u001b[0m\n\u001b[0;32m     19\u001b[0m                     \u001b[0mminvalue\u001b[0m \u001b[1;33m=\u001b[0m \u001b[0mmean\u001b[0m\u001b[1;33m\u001b[0m\u001b[1;33m\u001b[0m\u001b[0m\n",
      "\u001b[1;32mc:\\Users\\eduardo.tadeo\\Documents\\Master Thesis\\Notebooks\\UMAP_function.py\u001b[0m in \u001b[0;36mUMAP_model\u001b[1;34m(train_v, test_v, RUL_train, RUL_test, NN, UMAP_NN, UMAP_dist, n_components, images, metric)\u001b[0m\n\u001b[0;32m     24\u001b[0m     trans = umap.UMAP(\n\u001b[0;32m     25\u001b[0m         \u001b[0mn_neighbors\u001b[0m \u001b[1;33m=\u001b[0m \u001b[0mUMAP_NN\u001b[0m\u001b[1;33m,\u001b[0m\u001b[1;33m\u001b[0m\u001b[1;33m\u001b[0m\u001b[0m\n\u001b[1;32m---> 26\u001b[1;33m         \u001b[0mmin_dist\u001b[0m \u001b[1;33m=\u001b[0m \u001b[0mUMAP_dist\u001b[0m\u001b[1;33m,\u001b[0m\u001b[1;33m\u001b[0m\u001b[1;33m\u001b[0m\u001b[0m\n\u001b[0m\u001b[0;32m     27\u001b[0m         \u001b[0mn_components\u001b[0m \u001b[1;33m=\u001b[0m \u001b[0mn_components\u001b[0m\u001b[1;33m,\u001b[0m\u001b[1;33m\u001b[0m\u001b[1;33m\u001b[0m\u001b[0m\n\u001b[0;32m     28\u001b[0m         metric = metric).fit(train_v)\n",
      "\u001b[1;32m~\\Anaconda3\\envs\\UMAP\\lib\\site-packages\\umap\\umap_.py\u001b[0m in \u001b[0;36mfit\u001b[1;34m(self, X, y)\u001b[0m\n\u001b[0;32m   1935\u001b[0m             \u001b[0mself\u001b[0m\u001b[1;33m.\u001b[0m\u001b[0moutput_metric\u001b[0m \u001b[1;32min\u001b[0m \u001b[1;33m(\u001b[0m\u001b[1;34m\"euclidean\"\u001b[0m\u001b[1;33m,\u001b[0m \u001b[1;34m\"l2\"\u001b[0m\u001b[1;33m)\u001b[0m\u001b[1;33m,\u001b[0m\u001b[1;33m\u001b[0m\u001b[1;33m\u001b[0m\u001b[0m\n\u001b[0;32m   1936\u001b[0m             \u001b[0mself\u001b[0m\u001b[1;33m.\u001b[0m\u001b[0mrandom_state\u001b[0m \u001b[1;32mis\u001b[0m \u001b[1;32mNone\u001b[0m\u001b[1;33m,\u001b[0m\u001b[1;33m\u001b[0m\u001b[1;33m\u001b[0m\u001b[0m\n\u001b[1;32m-> 1937\u001b[1;33m             \u001b[0mself\u001b[0m\u001b[1;33m.\u001b[0m\u001b[0mverbose\u001b[0m\u001b[1;33m,\u001b[0m\u001b[1;33m\u001b[0m\u001b[1;33m\u001b[0m\u001b[0m\n\u001b[0m\u001b[0;32m   1938\u001b[0m         )[inverse]\n\u001b[0;32m   1939\u001b[0m \u001b[1;33m\u001b[0m\u001b[0m\n",
      "\u001b[1;32m~\\Anaconda3\\envs\\UMAP\\lib\\site-packages\\umap\\umap_.py\u001b[0m in \u001b[0;36msimplicial_set_embedding\u001b[1;34m(data, graph, n_components, initial_alpha, a, b, gamma, negative_sample_rate, n_epochs, init, random_state, metric, metric_kwds, output_metric, output_metric_kwds, euclidean_output, parallel, verbose)\u001b[0m\n\u001b[0;32m   1089\u001b[0m             \u001b[0mnegative_sample_rate\u001b[0m\u001b[1;33m,\u001b[0m\u001b[1;33m\u001b[0m\u001b[1;33m\u001b[0m\u001b[0m\n\u001b[0;32m   1090\u001b[0m             \u001b[0mparallel\u001b[0m\u001b[1;33m=\u001b[0m\u001b[0mparallel\u001b[0m\u001b[1;33m,\u001b[0m\u001b[1;33m\u001b[0m\u001b[1;33m\u001b[0m\u001b[0m\n\u001b[1;32m-> 1091\u001b[1;33m             \u001b[0mverbose\u001b[0m\u001b[1;33m=\u001b[0m\u001b[0mverbose\u001b[0m\u001b[1;33m,\u001b[0m\u001b[1;33m\u001b[0m\u001b[1;33m\u001b[0m\u001b[0m\n\u001b[0m\u001b[0;32m   1092\u001b[0m         )\n\u001b[0;32m   1093\u001b[0m     \u001b[1;32melse\u001b[0m\u001b[1;33m:\u001b[0m\u001b[1;33m\u001b[0m\u001b[1;33m\u001b[0m\u001b[0m\n",
      "\u001b[1;32m~\\Anaconda3\\envs\\UMAP\\lib\\site-packages\\umap\\layouts.py\u001b[0m in \u001b[0;36moptimize_layout_euclidean\u001b[1;34m(head_embedding, tail_embedding, head, tail, n_epochs, n_vertices, epochs_per_sample, a, b, rng_state, gamma, initial_alpha, negative_sample_rate, parallel, verbose)\u001b[0m\n\u001b[0;32m    229\u001b[0m             \u001b[0mepoch_of_next_negative_sample\u001b[0m\u001b[1;33m,\u001b[0m\u001b[1;33m\u001b[0m\u001b[1;33m\u001b[0m\u001b[0m\n\u001b[0;32m    230\u001b[0m             \u001b[0mepoch_of_next_sample\u001b[0m\u001b[1;33m,\u001b[0m\u001b[1;33m\u001b[0m\u001b[1;33m\u001b[0m\u001b[0m\n\u001b[1;32m--> 231\u001b[1;33m             \u001b[0mn\u001b[0m\u001b[1;33m,\u001b[0m\u001b[1;33m\u001b[0m\u001b[1;33m\u001b[0m\u001b[0m\n\u001b[0m\u001b[0;32m    232\u001b[0m         )\n\u001b[0;32m    233\u001b[0m \u001b[1;33m\u001b[0m\u001b[0m\n",
      "\u001b[1;31mKeyboardInterrupt\u001b[0m: "
     ]
    }
   ],
   "source": [
    "import umap\n",
    "\n",
    "minvalue = 99999999999999999\n",
    "parameters = np.zeros(4)\n",
    "for i in UMAP_NN_v:\n",
    "\n",
    "    for j in UMAP_min_dist_v:\n",
    "\n",
    "        for k  in UMAP_n_components_v:\n",
    "\n",
    "            for z in UMAP_metric_v:\n",
    "\n",
    "                _ , _ , _ , mean, _ = UMAP_model(\n",
    "                    train_v, test_v, RUL_train, RUL_test,\n",
    "                    UMAP_NN = i, UMAP_dist = j,\n",
    "                    n_components = k, metric = z,\n",
    "                    images = False)\n",
    "                if mean < minvalue: \n",
    "                    minvalue = mean\n",
    "                    parameters = [i,j,k,z]\n",
    "\n",
    "\n",
    "\n",
    "\n",
    "                "
   ]
  },
  {
   "cell_type": "markdown",
   "metadata": {},
   "source": [
    "The experiment drives : \n",
    "\n",
    "- Metrics: euclidean and chebyshev.\n",
    "- Number of components: no impact \n"
   ]
  },
  {
   "cell_type": "code",
   "execution_count": 6,
   "metadata": {
    "tags": []
   },
   "outputs": [
    {
     "output_type": "stream",
     "name": "stdout",
     "text": "26.254826254826256\n[15, 0.25, 2, 'chebyshev']\n"
    }
   ],
   "source": [
    "print(minvalue)\n",
    "\n",
    "print(parameters)"
   ]
  },
  {
   "cell_type": "code",
   "execution_count": null,
   "metadata": {},
   "outputs": [],
   "source": []
  }
 ],
 "metadata": {
  "language_info": {
   "codemirror_mode": {
    "name": "ipython",
    "version": 3
   },
   "file_extension": ".py",
   "mimetype": "text/x-python",
   "name": "python",
   "nbconvert_exporter": "python",
   "pygments_lexer": "ipython3",
   "version": "3.6.10-final"
  },
  "orig_nbformat": 2,
  "kernelspec": {
   "name": "python361064bitumapconda899e4e23b45c45648e36a6efed0c4038",
   "display_name": "Python 3.6.10 64-bit ('UMAP': conda)"
  }
 },
 "nbformat": 4,
 "nbformat_minor": 2
}